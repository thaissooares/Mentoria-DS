{
 "cells": [
  {
   "cell_type": "code",
   "execution_count": null,
   "metadata": {},
   "outputs": [],
   "source": [
    "## Fonte: http://www.dados.gov.br/\n",
    "## AGÊNCIA NACIONAL DE TELECOMUNICAÇÕES – ANATEL\n",
    "## PESQUISA DE SATISFAÇÃO E QUALIDADE PERCEBIDA\n",
    "## Título:  Banco de Dados Consolidado da Pesquisa – Telefonia Fixa\n",
    "## Descrição:Banco de dados das entrevistas da pesquisa de satisfação e qualidade percebida relativa a prestação do Serviço Telefônico Fixo Comutado – STFC (telefonia fixa)\n"
   ]
  },
  {
   "cell_type": "code",
   "execution_count": null,
   "metadata": {},
   "outputs": [],
   "source": [
    "#Importando Biblioteca\n",
    "import pandas as pd\n",
    "%matplotlib inline\n",
    "%pylab inline\n",
    "import matplotlib.pyplot as plt\n",
    "import seaborn as sns\n",
    "plt.style.use('ggplot')"
   ]
  },
  {
   "cell_type": "code",
   "execution_count": null,
   "metadata": {},
   "outputs": [],
   "source": [
    "## Abrindo Arquivo para leitura\n",
    "dataset = pd.read_csv('arquivos/BD_STFC.csv',sep=';',encoding='latin1')"
   ]
  },
  {
   "cell_type": "code",
   "execution_count": null,
   "metadata": {},
   "outputs": [],
   "source": [
    "# Visualizando linhas da Base:\n",
    "dataset.head().T"
   ]
  },
  {
   "cell_type": "code",
   "execution_count": null,
   "metadata": {},
   "outputs": [],
   "source": [
    "# Quantidade de pesquisas Realizadas por estado\n",
    "dataset.groupby('ESTADO')['ESTADO'].count()"
   ]
  },
  {
   "cell_type": "code",
   "execution_count": null,
   "metadata": {},
   "outputs": [],
   "source": [
    "# Quantidade de pesquisa por sexo M e F\n",
    "dataset[u'Q8'].value_counts()"
   ]
  },
  {
   "cell_type": "code",
   "execution_count": null,
   "metadata": {},
   "outputs": [],
   "source": [
    "#Faixa etária dos consumidores que realizaram a pesquisa de satisfação\n",
    "dataset.groupby('Q7')[u'Q7a'].value_counts()"
   ]
  },
  {
   "cell_type": "code",
   "execution_count": null,
   "metadata": {},
   "outputs": [],
   "source": [
    "# Quantidade de pesquisa por PF ou PJ \n",
    "dataset[u'Q6'].value_counts()\n"
   ]
  },
  {
   "cell_type": "code",
   "execution_count": null,
   "metadata": {},
   "outputs": [],
   "source": [
    "dataset[u'OPERADORA'].value_counts()"
   ]
  },
  {
   "cell_type": "code",
   "execution_count": null,
   "metadata": {},
   "outputs": [],
   "source": [
    "# 5 empresas que fizeram mais pesquissas\n",
    "fig, ax = plt.subplots()\n",
    "\n",
    "y_pos = np.arange(len(dataset['OPERADORA'].value_counts()[:5]))\n",
    "values = dataset['OPERADORA'].value_counts()[:5]\n",
    "segmentos = dataset['OPERADORA'].unique()[:5]\n",
    "\n",
    "ax.barh(y_pos, values, align='center', color='blue')\n",
    "ax.set_yticks(y_pos)\n",
    "ax.set_yticklabels(segmentos)\n",
    "ax.invert_yaxis()\n",
    "ax.set_xlabel('Pesquisas')\n",
    "ax.set_title('Rank de Empresas')\n",
    "\n",
    "plt.show()"
   ]
  },
  {
   "cell_type": "code",
   "execution_count": null,
   "metadata": {},
   "outputs": [],
   "source": [
    "# Avaliação da Nota da Pesquisa \n",
    "dataset.plot.density(y='J1',xlim=[0,10],figsize=[6,3])"
   ]
  },
  {
   "cell_type": "code",
   "execution_count": null,
   "metadata": {},
   "outputs": [],
   "source": []
  },
  {
   "cell_type": "code",
   "execution_count": null,
   "metadata": {},
   "outputs": [],
   "source": []
  }
 ],
 "metadata": {
  "kernelspec": {
   "display_name": "Python 3",
   "language": "python",
   "name": "python3"
  },
  "language_info": {
   "codemirror_mode": {
    "name": "ipython",
    "version": 3
   },
   "file_extension": ".py",
   "mimetype": "text/x-python",
   "name": "python",
   "nbconvert_exporter": "python",
   "pygments_lexer": "ipython3",
   "version": "3.7.6"
  }
 },
 "nbformat": 4,
 "nbformat_minor": 4
}
